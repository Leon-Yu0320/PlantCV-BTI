{
 "cells": [
  {
   "cell_type": "markdown",
   "metadata": {},
   "source": [
    "# Multi-Plant Tutorial \n",
    "\n",
    "For multi-plant workflows, images with multiple plants are processed and result in individual pictures for each plant, allowing a secondary workflow\n",
    "\n",
    "1.  **Image:** Images can be processed regardless of what type of VIS camera was used (high-throughput platform, digital camera, cell phone camera).\n",
    "Image processing will work with adjustments if images are well lit and free of background that is similar in color to plant material.  \n",
    "2.  **Output directory:** If debug mode is set to 'print' output images from each step are produced."
   ]
  },
  {
   "cell_type": "code",
   "execution_count": null,
   "metadata": {},
   "outputs": [],
   "source": [
    "#import libraires\n",
    "import numpy as np\n",
    "import argparse \n",
    "from plantcv import plantcv as pcv"
   ]
  },
  {
   "cell_type": "code",
   "execution_count": null,
   "metadata": {},
   "outputs": [],
   "source": [
    "class options:\n",
    "    def __init__(self):\n",
    "        self.image = \"PlantCV_image/raspiK_cameraA_1130120006.jpg\"\n",
    "        self.debug = \"plot\"\n",
    "        self.writeimg= True\n",
    "        self.result = \"./Results\"\n",
    "        self.outdir = \"./Results\"\n",
    "        \n",
    "# Store the output to the current directory \n",
    "# Get options\n",
    "args = options()\n",
    "\n",
    "# Set debug to the global parameter \n",
    "pcv.params.debug = args.debug\n"
   ]
  },
  {
   "cell_type": "code",
   "execution_count": null,
   "metadata": {
    "scrolled": true
   },
   "outputs": [],
   "source": [
    "# Read image\n",
    "\n",
    "# Inputs:\n",
    "#   filename - Image file to be read in \n",
    "#   mode - How to read in the image; either 'native' (default), 'rgb', 'gray', or 'csv'\n",
    "img, path, filename = pcv.readimage(filename=args.image)"
   ]
  },
  {
   "cell_type": "code",
   "execution_count": null,
   "metadata": {
    "scrolled": true
   },
   "outputs": [],
   "source": [
    "# Normalize the white color so you can later\n",
    "# compare color between images.\n",
    "\n",
    "# Inputs:\n",
    "#   img = image object, RGB color space\n",
    "#   roi = region for white reference, if none uses the whole image,\n",
    "#         otherwise (x position, y position, box width, box height)\n",
    "\n",
    "# white balance image based on white toughspot\n",
    "\n",
    "img1 = pcv.white_balance(img, roi=(960,150,150,150))"
   ]
  },
  {
   "cell_type": "code",
   "execution_count": null,
   "metadata": {},
   "outputs": [],
   "source": [
    "#Rotate the image slightly so the plants line up with\n",
    "#the grid that we'll add in a later step\n",
    "#Inputs:\n",
    "#img = image object, RGB color space¶\n",
    "#rotation_deg = Rotation angle in degrees, can be negative, positive values\n",
    "#will move counter-clockwise\n",
    "#crop = If True then image will be cropped to orginal image dimensions, if False\n",
    "#the image size will be adjusted to accommodate new image dimensions\n",
    "img1 = pcv.rotate(img=img1, rotation_deg=182, crop=False)"
   ]
  },
  {
   "cell_type": "code",
   "execution_count": null,
   "metadata": {
    "scrolled": true
   },
   "outputs": [],
   "source": [
    "# Shift image. This step is important for clustering later on.\n",
    "# For this image it also allows you to push the green raspberry pi camera\n",
    "# out of the image. This step might not be necessary for all images.\n",
    "# The resulting image is the same size as the original.\n",
    "\n",
    "# Inputs:\n",
    "#   img    = image object\n",
    "#   number = integer, number of pixels to move image\n",
    "#   side   = direction to move from \"top\", \"bottom\", \"right\",\"left\"\n",
    "img1 = pcv.shift_img(img=img1, number=100, side='left')\n",
    "img1 = pcv.shift_img(img=img1, number=100, side='top')"
   ]
  },
  {
   "cell_type": "code",
   "execution_count": null,
   "metadata": {
    "scrolled": true
   },
   "outputs": [],
   "source": [
    "# Convert image from RGB color space to LAB color space\n",
    "# Keep only the green-magenta channel (grayscale)\n",
    "\n",
    "# Inputs:\n",
    "#    rgb_img = image object, RGB color space\n",
    "#    channel = color subchannel ('l' = lightness, 'a' = green-magenta , 'b' = blue-yellow)\n",
    "a = pcv.rgb2gray_lab(rgb_img=img1, channel='a')\n",
    "l = pcv.rgb2gray_lab(rgb_img=img1, channel='l')\n",
    "b = pcv.rgb2gray_lab(rgb_img=img1, channel='b')\n",
    "\n",
   ]
  },
  {
   "cell_type": "code",
   "execution_count": null,
   "metadata": {
    "scrolled": false
   },
   "outputs": [],
   "source": [
    "# Set a binary threshold on the saturation channel image\n",
    "\n",
    "# Inputs:\n",
    "#    gray_img    = img object, grayscale\n",
    "#    threshold   = threshold value (0-255)\n",
    "#    max_value   = value to apply above threshold (usually 255 = white)\n",
    "#    object_type = light or dark\n",
    "#       - If object is light then standard thresholding is done\n",
    "#       - If object is dark then inverse thresholding is done\n",
    "img_binary = pcv.threshold.binary(gray_img=a, threshold=105, max_value=156, object_type='dark')\n",
    "#                                                        ^\n",
    "#                                                        |\n",
    "#                                         adjust this value\n"
   ]
  },
  {
   "cell_type": "code",
   "execution_count": null,
   "metadata": {},
   "outputs": [],
   "source": [
    "# Fill in small objects (speckles)\n",
    "\n",
    "#Insufficient masking\n",
    "\n",
    "# Inputs:\n",
    "#    bin_img  = binary image. img will be returned after filling\n",
    "#    size     = minimum object area size in pixels (integer)\n",
    "fill_image = pcv.fill(bin_img=img_binary, size=200)\n",
    "#                                                ^\n",
    "#                                                |\n",
    "#                                 adjust this value"
   ]
  },
  {
   "cell_type": "code",
   "execution_count": null,
   "metadata": {
    "scrolled": true
   },
   "outputs": [],
   "source": [
    "# Dilate so that you don't lose leaves (just in case)\n",
    "\n",
    "#Over masking\n",
    "\n",
    "# Inputs:\n",
    "#    gray_img = input image\n",
    "#    ksize    = integer, kernel size\n",
    "#    i        = iterations, i.e. number of consecutive filtering passes\n",
    "dilated = pcv.dilate(gray_img=img_binary, ksize=2, i=1)"
   ]
  },
  {
   "cell_type": "code",
   "execution_count": null,
   "metadata": {
    "scrolled": false
   },
   "outputs": [],
   "source": [
    "# Find objects (contours: black-white boundaries)\n",
    "\n",
    "# Inputs:\n",
    "#    img  = image that the objects will be overlayed\n",
    "#    mask = what is used for object detection\n",
    "id_objects, obj_hierarchy = pcv.find_objects(img=img1, mask=dilated)"
   ]
  },
  {
   "cell_type": "code",
   "execution_count": null,
   "metadata": {},
   "outputs": [],
   "source": [
    "# Define region of interest (ROI)\n",
    "\n",
    "# Inputs:\n",
    "#    img   = An RGB or grayscale image to plot the ROI on.\n",
    "#    x     = The x-coordinate of the upper left corner of the rectangle.\n",
    "#    y     = The y-coordinate of the upper left corner of the rectangle.\n",
    "#    h     = The width of the rectangle.\n",
    "#    w     = The height of the rectangle.\n",
    "#   roi_contour, roi_hierarchy = pcv.roi.rectangle(600, 900, 20000, 20000, img1) \n",
    "#                                                  |______________|\n",
    "#                                            adjust these four values\n",
    "roi_contour, roi_hierarchy = pcv.roi.rectangle(img=img1, x=100, y=100, h=1850, w=1850)\n"
   ]
  },
  {
   "cell_type": "code",
   "execution_count": null,
   "metadata": {},
   "outputs": [],
   "source": [
    "# Keep objects that overlap with the ROI\n",
    "\n",
    "# Inputs:\n",
    "#    img            = img to display kept objects\n",
    "#    roi_contour    = contour of roi, output from any ROI function\n",
    "#    roi_hierarchy  = contour of roi, output from any ROI function\n",
    "#    object_contour = contours of objects, output from pcv.find_objects function\n",
    "#    obj_hierarchy  = hierarchy of objects, output from pcv.find_objects function\n",
    "#    roi_type       = 'partial' (default, for partially inside the ROI), 'cutto', or \n",
    "#                     'largest' (keep only largest contour)\n",
    "roi_objects, roi_obj_hierarchy, kept_mask, obj_area = pcv.roi_objects(img=img1, roi_contour=roi_contour, \n",
    "                                                                      roi_hierarchy=roi_hierarchy,\n",
    "                                                                      object_contour=id_objects, \n",
    "                                                                      obj_hierarchy=obj_hierarchy, \n",
    "                                                                      roi_type='partial')"
   ]
  },
  {
   "cell_type": "code",
   "execution_count": null,
   "metadata": {},
   "outputs": [],
   "source": [
    "# Check if all of the plants fall completely within the bounds of an image \n",
    "# or if it touches the edge. Used for QC. \n",
    "\n",
    "# Inputs:\n",
    "#   mask = Binary mask \n",
    "in_bounds = pcv.within_frame(mask=kept_mask)"
   ]
  },
  {
   "cell_type": "code",
   "execution_count": null,
   "metadata": {
    "scrolled": true
   },
   "outputs": [],
   "source": [
    "# use multi_roi to mark multiple regions of interests\n",
    "\n",
    "# Create multiple ROIs on the same image:  \n",
    "# Used to define multiple regions of interest in the same image. Users can either specify a\n",
    "# starting coordinate (`coord`), number of rowsand columns, and spacing to create a grid of ROIs,\n",
    "# or a custom list of coordinates that specify the centers of the ROIs. Providing a custom list \n",
    "# of coordinates (list of tuples) is useful for missing plants or any arrangement that isn't \n",
    "# a perfect grid. Returns lists of contours and hierarchies that can be used in downstream steps. \n",
    "\n",
    "#     Inputs\n",
    "#     img            = Input image data.\n",
    "#     coord          = Two-element tuple of the center of the top left object.\n",
    "#     radius         = Radius of ROIs.\n",
    "#     spacing        = Two-element tuple of the horizontal and vertical spacing between ROIs.\n",
    "#     nrows          = Number of rows in ROI layout.\n",
    "#     ncols          = Number of columns in ROI layout.\n",
    "\n",
    "# Make a grid of ROIs \n",
    "rois, roi_hierarchy = pcv.roi.multi(img=img1, coord=[(750,400),(1250,400),(1750,400),\n",
    "                                                        (750,900),(1250,900),\n",
    "                                                        (350,1300),(750,1300),(1250,1300),(1750,1300),\n",
    "                                                        (350,1750),(750,1750)],\n",
    "                                                           radius=120)\n"
   ]
  },
  {
   "cell_type": "code",
   "execution_count": null,
   "metadata": {},
   "outputs": [],
   "source": [
    "import numpy as np \n",
    "\n",
    "img_copy = np.copy(img1)\n",
    "\n",
    "# Analyze each plant using the ROI's created by using the grid setup for pcv.roi.multi\n",
    "\n",
    "for i in range(0, len(rois)):\n",
    "    roi = rois[i]\n",
    "    hierarchy = roi_hierarchy[i]\n",
    "    # Filter objects by ROI \n",
    "    filtered_contours, filtered_hierarchy, filtered_mask, filtered_area = pcv.roi_objects(\n",
    "        img=img1, roi_type=\"partial\", roi_contour=roi, roi_hierarchy=hierarchy, object_contour=roi_objects, \n",
    "        obj_hierarchy=roi_obj_hierarchy)\n",
    "\n",
    "    # Combine objects together in each plant     \n",
    "    plant_contour, plant_mask = pcv.object_composition(img=img_copy, contours=filtered_contours, hierarchy=filtered_hierarchy)        \n",
    "\n",
    "    # Analyze the shape of each plant \n",
    "    img_copy = pcv.analyze_object(img=img_copy, obj=plant_contour, mask=plant_mask)\n",
    "\n",
    "# Print out a text file with shape data for each plant in the image\n",
    "pcv.print_results(args.result)\n",
    "\n",
    "# Plot out the image with shape analysis on each plant in the image \n",
    "pcv.plot_image(img_copy)\n",
    "\n"
   ]
  }
 ],
 "metadata": {
  "kernelspec": {
   "display_name": "Python 3",
   "language": "python",
   "name": "python3"
  },
  "language_info": {
   "codemirror_mode": {
    "name": "ipython",
    "version": 3
   },
   "file_extension": ".py",
   "mimetype": "text/x-python",
   "name": "python",
   "nbconvert_exporter": "python",
   "pygments_lexer": "ipython3",
   "version": "3.8.6"
  }
 },
 "nbformat": 4,
 "nbformat_minor": 4
}
